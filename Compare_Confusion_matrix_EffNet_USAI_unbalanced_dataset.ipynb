{
 "cells": [
  {
   "cell_type": "code",
   "execution_count": 1,
   "id": "sized-understanding",
   "metadata": {},
   "outputs": [],
   "source": [
    "import os\n",
    "import numpy as np\n",
    "import pandas as pd\n",
    "from sklearn.metrics import confusion_matrix\n",
    "from sklearn.metrics import classification_report\n",
    "import matplotlib.pyplot as plt\n",
    "import seaborn as sns"
   ]
  },
  {
   "cell_type": "markdown",
   "id": "previous-pepper",
   "metadata": {},
   "source": [
    "## 📂Import Result EffNetB5 Paper"
   ]
  },
  {
   "cell_type": "code",
   "execution_count": 2,
   "id": "plastic-ordinance",
   "metadata": {},
   "outputs": [
    {
     "name": "stdout",
     "output_type": "stream",
     "text": [
      "(1312, 30)\n"
     ]
    },
    {
     "data": {
      "text/html": [
       "<div>\n",
       "<style scoped>\n",
       "    .dataframe tbody tr th:only-of-type {\n",
       "        vertical-align: middle;\n",
       "    }\n",
       "\n",
       "    .dataframe tbody tr th {\n",
       "        vertical-align: top;\n",
       "    }\n",
       "\n",
       "    .dataframe thead th {\n",
       "        text-align: right;\n",
       "    }\n",
       "</style>\n",
       "<table border=\"1\" class=\"dataframe\">\n",
       "  <thead>\n",
       "    <tr style=\"text-align: right;\">\n",
       "      <th></th>\n",
       "      <th>Unnamed: 0</th>\n",
       "      <th>Unnamed: 0.1</th>\n",
       "      <th>Case</th>\n",
       "      <th>Abs Position</th>\n",
       "      <th>Sub Position</th>\n",
       "      <th>Class</th>\n",
       "      <th>Path Full</th>\n",
       "      <th>Path Crop</th>\n",
       "      <th>Views</th>\n",
       "      <th>fold</th>\n",
       "      <th>...</th>\n",
       "      <th>Sub_class_New</th>\n",
       "      <th>tag_AjNit</th>\n",
       "      <th>tag_AjWan</th>\n",
       "      <th>Test150</th>\n",
       "      <th>Spilt</th>\n",
       "      <th>Sub_Position_New</th>\n",
       "      <th>filename</th>\n",
       "      <th>Sub_Position_Label</th>\n",
       "      <th>category</th>\n",
       "      <th>Prob</th>\n",
       "    </tr>\n",
       "  </thead>\n",
       "  <tbody>\n",
       "    <tr>\n",
       "      <th>0</th>\n",
       "      <td>0</td>\n",
       "      <td>111</td>\n",
       "      <td>40</td>\n",
       "      <td>P1</td>\n",
       "      <td>P1</td>\n",
       "      <td>Abnormal</td>\n",
       "      <td>/media/tohn/HDD/VISION_dataset/USAI/ABnormal01...</td>\n",
       "      <td>/media/tohn/HDD/VISION_dataset/USAI/ABnormal01...</td>\n",
       "      <td>FP-A</td>\n",
       "      <td>2</td>\n",
       "      <td>...</td>\n",
       "      <td>AB01</td>\n",
       "      <td>NaN</td>\n",
       "      <td>NaN</td>\n",
       "      <td>False</td>\n",
       "      <td>Test</td>\n",
       "      <td>P1</td>\n",
       "      <td>AB01 P1 C040.JPG</td>\n",
       "      <td>P1</td>\n",
       "      <td>Normal</td>\n",
       "      <td>0.958335</td>\n",
       "    </tr>\n",
       "    <tr>\n",
       "      <th>1</th>\n",
       "      <td>1</td>\n",
       "      <td>112</td>\n",
       "      <td>40</td>\n",
       "      <td>P2</td>\n",
       "      <td>P2</td>\n",
       "      <td>Abnormal</td>\n",
       "      <td>/media/tohn/HDD/VISION_dataset/USAI/ABnormal01...</td>\n",
       "      <td>/media/tohn/HDD/VISION_dataset/USAI/ABnormal01...</td>\n",
       "      <td>FP-A</td>\n",
       "      <td>2</td>\n",
       "      <td>...</td>\n",
       "      <td>AB01</td>\n",
       "      <td>NaN</td>\n",
       "      <td>NaN</td>\n",
       "      <td>False</td>\n",
       "      <td>Test</td>\n",
       "      <td>P2</td>\n",
       "      <td>AB01 P2 C040.JPG</td>\n",
       "      <td>P2</td>\n",
       "      <td>AB01</td>\n",
       "      <td>0.999923</td>\n",
       "    </tr>\n",
       "    <tr>\n",
       "      <th>2</th>\n",
       "      <td>2</td>\n",
       "      <td>113</td>\n",
       "      <td>40</td>\n",
       "      <td>P4</td>\n",
       "      <td>P41</td>\n",
       "      <td>Abnormal</td>\n",
       "      <td>/media/tohn/HDD/VISION_dataset/USAI/ABnormal01...</td>\n",
       "      <td>/media/tohn/HDD/VISION_dataset/USAI/ABnormal01...</td>\n",
       "      <td>FP-B</td>\n",
       "      <td>2</td>\n",
       "      <td>...</td>\n",
       "      <td>AB01</td>\n",
       "      <td>NaN</td>\n",
       "      <td>NaN</td>\n",
       "      <td>False</td>\n",
       "      <td>Test</td>\n",
       "      <td>P4</td>\n",
       "      <td>AB01 P4-1 C040.JPG</td>\n",
       "      <td>P4</td>\n",
       "      <td>AB02</td>\n",
       "      <td>0.932391</td>\n",
       "    </tr>\n",
       "    <tr>\n",
       "      <th>3</th>\n",
       "      <td>3</td>\n",
       "      <td>114</td>\n",
       "      <td>40</td>\n",
       "      <td>P5</td>\n",
       "      <td>P51</td>\n",
       "      <td>Abnormal</td>\n",
       "      <td>/media/tohn/HDD/VISION_dataset/USAI/ABnormal01...</td>\n",
       "      <td>/media/tohn/HDD/VISION_dataset/USAI/ABnormal01...</td>\n",
       "      <td>FP-C</td>\n",
       "      <td>2</td>\n",
       "      <td>...</td>\n",
       "      <td>AB01</td>\n",
       "      <td>NaN</td>\n",
       "      <td>NaN</td>\n",
       "      <td>False</td>\n",
       "      <td>Test</td>\n",
       "      <td>P6</td>\n",
       "      <td>AB01 P5-1 C040.JPG</td>\n",
       "      <td>P6</td>\n",
       "      <td>AB01</td>\n",
       "      <td>0.758282</td>\n",
       "    </tr>\n",
       "    <tr>\n",
       "      <th>4</th>\n",
       "      <td>4</td>\n",
       "      <td>115</td>\n",
       "      <td>40</td>\n",
       "      <td>P3</td>\n",
       "      <td>P31</td>\n",
       "      <td>Abnormal</td>\n",
       "      <td>/media/tohn/HDD/VISION_dataset/USAI/ABnormal01...</td>\n",
       "      <td>/media/tohn/HDD/VISION_dataset/USAI/ABnormal01...</td>\n",
       "      <td>FP-B</td>\n",
       "      <td>2</td>\n",
       "      <td>...</td>\n",
       "      <td>AB01</td>\n",
       "      <td>NaN</td>\n",
       "      <td>NaN</td>\n",
       "      <td>False</td>\n",
       "      <td>Test</td>\n",
       "      <td>P3</td>\n",
       "      <td>AB01 P3-1 C040.JPG</td>\n",
       "      <td>P3</td>\n",
       "      <td>AB02</td>\n",
       "      <td>0.995624</td>\n",
       "    </tr>\n",
       "  </tbody>\n",
       "</table>\n",
       "<p>5 rows × 30 columns</p>\n",
       "</div>"
      ],
      "text/plain": [
       "   Unnamed: 0  Unnamed: 0.1  Case Abs Position Sub Position     Class  \\\n",
       "0           0           111    40           P1           P1  Abnormal   \n",
       "1           1           112    40           P2           P2  Abnormal   \n",
       "2           2           113    40           P4          P41  Abnormal   \n",
       "3           3           114    40           P5          P51  Abnormal   \n",
       "4           4           115    40           P3          P31  Abnormal   \n",
       "\n",
       "                                           Path Full  \\\n",
       "0  /media/tohn/HDD/VISION_dataset/USAI/ABnormal01...   \n",
       "1  /media/tohn/HDD/VISION_dataset/USAI/ABnormal01...   \n",
       "2  /media/tohn/HDD/VISION_dataset/USAI/ABnormal01...   \n",
       "3  /media/tohn/HDD/VISION_dataset/USAI/ABnormal01...   \n",
       "4  /media/tohn/HDD/VISION_dataset/USAI/ABnormal01...   \n",
       "\n",
       "                                           Path Crop Views  fold  ...  \\\n",
       "0  /media/tohn/HDD/VISION_dataset/USAI/ABnormal01...  FP-A     2  ...   \n",
       "1  /media/tohn/HDD/VISION_dataset/USAI/ABnormal01...  FP-A     2  ...   \n",
       "2  /media/tohn/HDD/VISION_dataset/USAI/ABnormal01...  FP-B     2  ...   \n",
       "3  /media/tohn/HDD/VISION_dataset/USAI/ABnormal01...  FP-C     2  ...   \n",
       "4  /media/tohn/HDD/VISION_dataset/USAI/ABnormal01...  FP-B     2  ...   \n",
       "\n",
       "  Sub_class_New tag_AjNit  tag_AjWan  Test150  Spilt  Sub_Position_New  \\\n",
       "0          AB01       NaN        NaN    False   Test                P1   \n",
       "1          AB01       NaN        NaN    False   Test                P2   \n",
       "2          AB01       NaN        NaN    False   Test                P4   \n",
       "3          AB01       NaN        NaN    False   Test                P6   \n",
       "4          AB01       NaN        NaN    False   Test                P3   \n",
       "\n",
       "             filename  Sub_Position_Label  category      Prob  \n",
       "0    AB01 P1 C040.JPG                  P1    Normal  0.958335  \n",
       "1    AB01 P2 C040.JPG                  P2      AB01  0.999923  \n",
       "2  AB01 P4-1 C040.JPG                  P4      AB02  0.932391  \n",
       "3  AB01 P5-1 C040.JPG                  P6      AB01  0.758282  \n",
       "4  AB01 P3-1 C040.JPG                  P3      AB02  0.995624  \n",
       "\n",
       "[5 rows x 30 columns]"
      ]
     },
     "execution_count": 2,
     "metadata": {},
     "output_type": "execute_result"
    }
   ],
   "source": [
    "df_paper = pd.read_csv(\"/home/kannika/code/Result_EffNetB5_paper_test_on_newtestset.csv\")\n",
    "print(df_paper.shape)\n",
    "df_paper.head()"
   ]
  },
  {
   "cell_type": "code",
   "execution_count": 25,
   "id": "close-breath",
   "metadata": {},
   "outputs": [
    {
     "data": {
      "text/plain": [
       "Text(0.5, 21.5, 'Predicted label')"
      ]
     },
     "execution_count": 25,
     "metadata": {},
     "output_type": "execute_result"
    },
    {
     "data": {
      "image/png": "[encoded data removed]",
      "text/plain": [
       "<Figure size 576x360 with 2 Axes>"
      ]
     },
     "metadata": {},
     "output_type": "display_data"
    }
   ],
   "source": [
    "#create CF \n",
    "act = df_paper['Sub_class_New'].array\n",
    "pred = df_paper['category'].array\n",
    "\n",
    "data = {'Actual': act,'Predicted' : pred,}\n",
    "df = pd.DataFrame(data, columns=['Actual','Predicted'])\n",
    "conf_mat = pd.crosstab(df['Actual'],df['Predicted'],rownames=['Actual'],colnames=['Predicted'])\n",
    "\n",
    "#Confusion matrix\n",
    "from sklearn.metrics import confusion_matrix\n",
    "import matplotlib.pyplot as plt\n",
    "cm = confusion_matrix(act, pred)\n",
    "\n",
    "#plot Confusion matrix\n",
    "import seaborn as sns\n",
    "sns.set()\n",
    "fig, ax = plt.subplots(figsize=(8, 5))\n",
    "\n",
    "ax = sns.heatmap(conf_mat, annot=True, fmt=\"d\", cmap=\"YlGnBu\") #Blues,Oranges,Reds\n",
    "ax.set_title('Confusion matrix',fontsize=20)\n",
    "ax.set_ylabel('True label',fontsize=18)\n",
    "ax.set_xlabel('Predicted label',fontsize=18)"
   ]
  },
  {
   "cell_type": "markdown",
   "id": "wicked-luther",
   "metadata": {},
   "source": [
    "## 📂Import Result EffNetB5 Unlearn - unfreezeB4-B7 (Block5a_se_excite-Block7 & FC)"
   ]
  },
  {
   "cell_type": "code",
   "execution_count": 3,
   "id": "experienced-tsunami",
   "metadata": {},
   "outputs": [
    {
     "name": "stdout",
     "output_type": "stream",
     "text": [
      "(1312, 30)\n"
     ]
    },
    {
     "data": {
      "text/html": [
       "<div>\n",
       "<style scoped>\n",
       "    .dataframe tbody tr th:only-of-type {\n",
       "        vertical-align: middle;\n",
       "    }\n",
       "\n",
       "    .dataframe tbody tr th {\n",
       "        vertical-align: top;\n",
       "    }\n",
       "\n",
       "    .dataframe thead th {\n",
       "        text-align: right;\n",
       "    }\n",
       "</style>\n",
       "<table border=\"1\" class=\"dataframe\">\n",
       "  <thead>\n",
       "    <tr style=\"text-align: right;\">\n",
       "      <th></th>\n",
       "      <th>Unnamed: 0</th>\n",
       "      <th>Unnamed: 0.1</th>\n",
       "      <th>Case</th>\n",
       "      <th>Abs Position</th>\n",
       "      <th>Sub Position</th>\n",
       "      <th>Class</th>\n",
       "      <th>Path Full</th>\n",
       "      <th>Path Crop</th>\n",
       "      <th>Views</th>\n",
       "      <th>fold</th>\n",
       "      <th>...</th>\n",
       "      <th>Sub_class_New</th>\n",
       "      <th>tag_AjNit</th>\n",
       "      <th>tag_AjWan</th>\n",
       "      <th>Test150</th>\n",
       "      <th>Spilt</th>\n",
       "      <th>Sub_Position_New</th>\n",
       "      <th>filename</th>\n",
       "      <th>Sub_Position_Label</th>\n",
       "      <th>category</th>\n",
       "      <th>Prob</th>\n",
       "    </tr>\n",
       "  </thead>\n",
       "  <tbody>\n",
       "    <tr>\n",
       "      <th>0</th>\n",
       "      <td>0</td>\n",
       "      <td>111</td>\n",
       "      <td>40</td>\n",
       "      <td>P1</td>\n",
       "      <td>P1</td>\n",
       "      <td>Abnormal</td>\n",
       "      <td>/media/tohn/HDD/VISION_dataset/USAI/ABnormal01...</td>\n",
       "      <td>/media/tohn/HDD/VISION_dataset/USAI/ABnormal01...</td>\n",
       "      <td>FP-A</td>\n",
       "      <td>2</td>\n",
       "      <td>...</td>\n",
       "      <td>AB01</td>\n",
       "      <td>NaN</td>\n",
       "      <td>NaN</td>\n",
       "      <td>False</td>\n",
       "      <td>Test</td>\n",
       "      <td>P1</td>\n",
       "      <td>AB01 P1 C040.JPG</td>\n",
       "      <td>P1</td>\n",
       "      <td>Normal</td>\n",
       "      <td>0.598785</td>\n",
       "    </tr>\n",
       "    <tr>\n",
       "      <th>1</th>\n",
       "      <td>1</td>\n",
       "      <td>112</td>\n",
       "      <td>40</td>\n",
       "      <td>P2</td>\n",
       "      <td>P2</td>\n",
       "      <td>Abnormal</td>\n",
       "      <td>/media/tohn/HDD/VISION_dataset/USAI/ABnormal01...</td>\n",
       "      <td>/media/tohn/HDD/VISION_dataset/USAI/ABnormal01...</td>\n",
       "      <td>FP-A</td>\n",
       "      <td>2</td>\n",
       "      <td>...</td>\n",
       "      <td>AB01</td>\n",
       "      <td>NaN</td>\n",
       "      <td>NaN</td>\n",
       "      <td>False</td>\n",
       "      <td>Test</td>\n",
       "      <td>P2</td>\n",
       "      <td>AB01 P2 C040.JPG</td>\n",
       "      <td>P2</td>\n",
       "      <td>AB01</td>\n",
       "      <td>0.764712</td>\n",
       "    </tr>\n",
       "    <tr>\n",
       "      <th>2</th>\n",
       "      <td>2</td>\n",
       "      <td>113</td>\n",
       "      <td>40</td>\n",
       "      <td>P4</td>\n",
       "      <td>P41</td>\n",
       "      <td>Abnormal</td>\n",
       "      <td>/media/tohn/HDD/VISION_dataset/USAI/ABnormal01...</td>\n",
       "      <td>/media/tohn/HDD/VISION_dataset/USAI/ABnormal01...</td>\n",
       "      <td>FP-B</td>\n",
       "      <td>2</td>\n",
       "      <td>...</td>\n",
       "      <td>AB01</td>\n",
       "      <td>NaN</td>\n",
       "      <td>NaN</td>\n",
       "      <td>False</td>\n",
       "      <td>Test</td>\n",
       "      <td>P4</td>\n",
       "      <td>AB01 P4-1 C040.JPG</td>\n",
       "      <td>P4</td>\n",
       "      <td>AB01</td>\n",
       "      <td>0.999968</td>\n",
       "    </tr>\n",
       "    <tr>\n",
       "      <th>3</th>\n",
       "      <td>3</td>\n",
       "      <td>114</td>\n",
       "      <td>40</td>\n",
       "      <td>P5</td>\n",
       "      <td>P51</td>\n",
       "      <td>Abnormal</td>\n",
       "      <td>/media/tohn/HDD/VISION_dataset/USAI/ABnormal01...</td>\n",
       "      <td>/media/tohn/HDD/VISION_dataset/USAI/ABnormal01...</td>\n",
       "      <td>FP-C</td>\n",
       "      <td>2</td>\n",
       "      <td>...</td>\n",
       "      <td>AB01</td>\n",
       "      <td>NaN</td>\n",
       "      <td>NaN</td>\n",
       "      <td>False</td>\n",
       "      <td>Test</td>\n",
       "      <td>P6</td>\n",
       "      <td>AB01 P5-1 C040.JPG</td>\n",
       "      <td>P6</td>\n",
       "      <td>AB01</td>\n",
       "      <td>0.999844</td>\n",
       "    </tr>\n",
       "    <tr>\n",
       "      <th>4</th>\n",
       "      <td>4</td>\n",
       "      <td>115</td>\n",
       "      <td>40</td>\n",
       "      <td>P3</td>\n",
       "      <td>P31</td>\n",
       "      <td>Abnormal</td>\n",
       "      <td>/media/tohn/HDD/VISION_dataset/USAI/ABnormal01...</td>\n",
       "      <td>/media/tohn/HDD/VISION_dataset/USAI/ABnormal01...</td>\n",
       "      <td>FP-B</td>\n",
       "      <td>2</td>\n",
       "      <td>...</td>\n",
       "      <td>AB01</td>\n",
       "      <td>NaN</td>\n",
       "      <td>NaN</td>\n",
       "      <td>False</td>\n",
       "      <td>Test</td>\n",
       "      <td>P3</td>\n",
       "      <td>AB01 P3-1 C040.JPG</td>\n",
       "      <td>P3</td>\n",
       "      <td>AB02</td>\n",
       "      <td>0.999443</td>\n",
       "    </tr>\n",
       "  </tbody>\n",
       "</table>\n",
       "<p>5 rows × 30 columns</p>\n",
       "</div>"
      ],
      "text/plain": [
       "   Unnamed: 0  Unnamed: 0.1  Case Abs Position Sub Position     Class  \\\n",
       "0           0           111    40           P1           P1  Abnormal   \n",
       "1           1           112    40           P2           P2  Abnormal   \n",
       "2           2           113    40           P4          P41  Abnormal   \n",
       "3           3           114    40           P5          P51  Abnormal   \n",
       "4           4           115    40           P3          P31  Abnormal   \n",
       "\n",
       "                                           Path Full  \\\n",
       "0  /media/tohn/HDD/VISION_dataset/USAI/ABnormal01...   \n",
       "1  /media/tohn/HDD/VISION_dataset/USAI/ABnormal01...   \n",
       "2  /media/tohn/HDD/VISION_dataset/USAI/ABnormal01...   \n",
       "3  /media/tohn/HDD/VISION_dataset/USAI/ABnormal01...   \n",
       "4  /media/tohn/HDD/VISION_dataset/USAI/ABnormal01...   \n",
       "\n",
       "                                           Path Crop Views  fold  ...  \\\n",
       "0  /media/tohn/HDD/VISION_dataset/USAI/ABnormal01...  FP-A     2  ...   \n",
       "1  /media/tohn/HDD/VISION_dataset/USAI/ABnormal01...  FP-A     2  ...   \n",
       "2  /media/tohn/HDD/VISION_dataset/USAI/ABnormal01...  FP-B     2  ...   \n",
       "3  /media/tohn/HDD/VISION_dataset/USAI/ABnormal01...  FP-C     2  ...   \n",
       "4  /media/tohn/HDD/VISION_dataset/USAI/ABnormal01...  FP-B     2  ...   \n",
       "\n",
       "  Sub_class_New tag_AjNit  tag_AjWan  Test150  Spilt  Sub_Position_New  \\\n",
       "0          AB01       NaN        NaN    False   Test                P1   \n",
       "1          AB01       NaN        NaN    False   Test                P2   \n",
       "2          AB01       NaN        NaN    False   Test                P4   \n",
       "3          AB01       NaN        NaN    False   Test                P6   \n",
       "4          AB01       NaN        NaN    False   Test                P3   \n",
       "\n",
       "             filename  Sub_Position_Label  category      Prob  \n",
       "0    AB01 P1 C040.JPG                  P1    Normal  0.598785  \n",
       "1    AB01 P2 C040.JPG                  P2      AB01  0.764712  \n",
       "2  AB01 P4-1 C040.JPG                  P4      AB01  0.999968  \n",
       "3  AB01 P5-1 C040.JPG                  P6      AB01  0.999844  \n",
       "4  AB01 P3-1 C040.JPG                  P3      AB02  0.999443  \n",
       "\n",
       "[5 rows x 30 columns]"
      ]
     },
     "execution_count": 3,
     "metadata": {},
     "output_type": "execute_result"
    }
   ],
   "source": [
    "df_unlearn = pd.read_csv(\"/home/kannika/code/Result_EffNetB5_unlearn_R2_UnfreezeB4-B7_USAI_unalanced.csv\")\n",
    "print(df_unlearn.shape)\n",
    "df_unlearn.head()"
   ]
  },
  {
   "cell_type": "code",
   "execution_count": 51,
   "id": "precise-birmingham",
   "metadata": {},
   "outputs": [
    {
     "name": "stdout",
     "output_type": "stream",
     "text": [
      "classifier accuracy = 88.64329268292683%\n",
      "              precision    recall  f1-score   support\n",
      "\n",
      "        AB01       0.77      0.66      0.71        74\n",
      "        AB02       0.66      0.56      0.61        59\n",
      "        AB03       0.59      0.68      0.63        19\n",
      "        AB04       0.92      0.61      0.73        38\n",
      "        AB05       0.88      0.72      0.79        29\n",
      "        AB06       0.85      0.52      0.65        21\n",
      "        AB07       0.73      0.52      0.61        21\n",
      "       AB081       0.91      0.62      0.74        32\n",
      "       AB082       0.94      0.57      0.71        28\n",
      "       AB083       0.69      0.82      0.75        11\n",
      "        AB09       0.91      0.81      0.86        26\n",
      "        AB10       0.73      0.80      0.76        10\n",
      "        AB11       0.94      0.91      0.93        55\n",
      "        AB12       0.96      0.84      0.90        32\n",
      "      Normal       0.91      0.99      0.95       857\n",
      "\n",
      "    accuracy                           0.89      1312\n",
      "   macro avg       0.83      0.71      0.76      1312\n",
      "weighted avg       0.88      0.89      0.88      1312\n",
      "\n"
     ]
    }
   ],
   "source": [
    "import numpy as np\n",
    "from sklearn.metrics import confusion_matrix\n",
    "act = df_unlearn['Sub_class_New'].array\n",
    "pred = df_unlearn['category'].array\n",
    "\n",
    "cmat = confusion_matrix(act, pred)\n",
    "print('classifier accuracy = {}%'.format((100.*np.trace(cmat))/(np.sum(cmat))))\n",
    "\n",
    "#Marking the Confusion Matrix\n",
    "from sklearn.metrics import classification_report,confusion_matrix\n",
    "print(classification_report(act, pred))#performance"
   ]
  },
  {
   "cell_type": "code",
   "execution_count": 26,
   "id": "consecutive-morning",
   "metadata": {
    "scrolled": false
   },
   "outputs": [
    {
     "data": {
      "text/plain": [
       "Text(0.5, 21.5, 'Predicted label')"
      ]
     },
     "execution_count": 26,
     "metadata": {},
     "output_type": "execute_result"
    },
    {
     "data": {
      "image/png": "[encoded data removed]",
      "text/plain": [
       "<Figure size 576x360 with 2 Axes>"
      ]
     },
     "metadata": {},
     "output_type": "display_data"
    }
   ],
   "source": [
    "#create CF \n",
    "data = {'Actual': act,'Predicted' : pred,}\n",
    "df = pd.DataFrame(data, columns=['Actual','Predicted'])\n",
    "conf_mat = pd.crosstab(df['Actual'],df['Predicted'],rownames=['Actual'],colnames=['Predicted'])\n",
    "\n",
    "#Confusion matrix\n",
    "from sklearn.metrics import confusion_matrix\n",
    "import matplotlib.pyplot as plt\n",
    "cm = confusion_matrix(act, pred)\n",
    "\n",
    "#plot Confusion matrix\n",
    "import seaborn as sns\n",
    "sns.set()\n",
    "fig, ax = plt.subplots(figsize=(8, 5))\n",
    "\n",
    "ax = sns.heatmap(conf_mat, annot=True, fmt=\"d\", cmap=\"YlGnBu\") #Blues,Oranges,Reds\n",
    "ax.set_title('Confusion matrix',fontsize=20)\n",
    "ax.set_ylabel('True label',fontsize=18)\n",
    "ax.set_xlabel('Predicted label',fontsize=18)"
   ]
  },
  {
   "cell_type": "code",
   "execution_count": null,
   "id": "civilian-record",
   "metadata": {},
   "outputs": [],
   "source": []
  },
  {
   "cell_type": "markdown",
   "id": "julian-belarus",
   "metadata": {},
   "source": [
    "##  ⚙️💡Evaluation"
   ]
  },
  {
   "cell_type": "code",
   "execution_count": 6,
   "id": "amazing-scott",
   "metadata": {},
   "outputs": [
    {
     "name": "stdout",
     "output_type": "stream",
     "text": [
      "15\n",
      "{'AB03', 'AB12', 'AB06', 'AB09', 'AB11', 'Normal', 'AB04', 'AB082', 'AB05', 'AB02', 'AB01', 'AB083', 'AB081', 'AB07', 'AB10'}\n",
      "15\n",
      "{'AB03', 'AB12', 'AB06', 'AB09', 'AB11', 'Normal', 'AB04', 'AB082', 'AB05', 'AB02', 'AB01', 'AB083', 'AB081', 'AB07', 'AB10'}\n"
     ]
    }
   ],
   "source": [
    "#เช็คคลาสใน Predicted\n",
    "pred_class_paper = set(df_paper['category'])\n",
    "print(len(pred_class_paper))\n",
    "print(pred_class_paper)\n",
    "\n",
    "pred_class_unlearn = set(df_unlearn['category'])\n",
    "print(len(pred_class_unlearn))\n",
    "print(pred_class_paper)"
   ]
  },
  {
   "cell_type": "code",
   "execution_count": 11,
   "id": "valued-lingerie",
   "metadata": {},
   "outputs": [
    {
     "name": "stdout",
     "output_type": "stream",
     "text": [
      "1312\n",
      "1312\n",
      "1312\n"
     ]
    }
   ],
   "source": [
    "pred_paper = df_paper['Sub_class_New'].array\n",
    "print(len(pred_paper))\n",
    "\n",
    "pred_unlearn = df_unlearn['category'].array\n",
    "print(len(pred_unlearn))\n",
    "\n",
    "act = df_paper['Sub_class_New'].array\n",
    "print(len(act))"
   ]
  },
  {
   "cell_type": "code",
   "execution_count": 15,
   "id": "distributed-circulation",
   "metadata": {},
   "outputs": [
    {
     "name": "stdout",
     "output_type": "stream",
     "text": [
      "Found 1312 validated image filenames belonging to 15 classes.\n",
      "{0: 'AB01', 1: 'AB02', 2: 'AB03', 3: 'AB04', 4: 'AB05', 5: 'AB06', 6: 'AB07', 7: 'AB081', 8: 'AB082', 9: 'AB083', 10: 'AB09', 11: 'AB10', 12: 'AB11', 13: 'AB12', 14: 'Normal'}\n"
     ]
    }
   ],
   "source": [
    "batch_size = 32\n",
    "height = width = 456\n",
    "\n",
    "from tensorflow.keras.preprocessing.image import ImageDataGenerator\n",
    "\n",
    "train_datagen = ImageDataGenerator(\n",
    "      rescale=1./255,\n",
    "      rotation_range=30,\n",
    "      width_shift_range=0.2,\n",
    "      height_shift_range=0.2,\n",
    "      brightness_range=[0.5,1.5],\n",
    "      shear_range=0.4,\n",
    "      zoom_range=0.2,\n",
    "      horizontal_flip=False,\n",
    "      fill_mode='nearest')\n",
    "\n",
    "train_generator = train_datagen.flow_from_dataframe(\n",
    "        dataframe = df_paper,\n",
    "        directory = None,\n",
    "        x_col = 'Path Crop',\n",
    "        y_col = 'Sub_class_New',\n",
    "        target_size = (height, width),\n",
    "        batch_size=batch_size,\n",
    "        color_mode= 'rgb',\n",
    "        class_mode='categorical')\n",
    "\n",
    "#label\n",
    "labels = (train_generator.class_indices)\n",
    "labels = dict((v,k.replace(\"C\",\"\")) for k,v in labels.items())\n",
    "print(labels)"
   ]
  },
  {
   "cell_type": "code",
   "execution_count": 49,
   "id": "fifty-banks",
   "metadata": {},
   "outputs": [
    {
     "data": {
      "image/png": "[encoded data removed]",
      "text/plain": [
       "<Figure size 648x432 with 2 Axes>"
      ]
     },
     "metadata": {},
     "output_type": "display_data"
    }
   ],
   "source": [
    "import numpy as np\n",
    "import pandas as pd\n",
    "import seaborn as sns\n",
    "import matplotlib.pyplot as plt\n",
    "from sklearn.metrics import confusion_matrix\n",
    "\n",
    "# Example class labels (replace these with actual class names)\n",
    "class_labels = ['AB01', 'AB02','AB03','AB04','AB05','AB06','AB07','AB081','AB082',\n",
    "                    'AB083','AB09','AB10','AB11','AB12','Normal']\n",
    "\n",
    "act = df_paper['Sub_class_New'].array\n",
    "pred_paper = df_paper['category'].array\n",
    "pred_unlearn = df_unlearn['category'].array\n",
    "\n",
    "# Compute confusion matrices\n",
    "cm_base = confusion_matrix(act, pred_paper)\n",
    "cm_unlearn = confusion_matrix(act, pred_unlearn)\n",
    "\n",
    "# Compute the difference matrix\n",
    "cm_diff = cm_unlearn - cm_base\n",
    "\n",
    "# Plot the confusion matrix difference\n",
    "plt.figure(figsize=(9, 6))\n",
    "sns.heatmap(cm_diff, annot=True, fmt=\"d\", cmap=\"RdBu\", center=0, xticklabels=class_labels, yticklabels=class_labels)\n",
    "\n",
    "ax.set_facecolor('white') \n",
    "plt.xlabel(\"Predicted label\", fontsize=18)\n",
    "plt.ylabel(\"True label\", fontsize=18)\n",
    "#plt.title(\"Confusion Matrix Difference of EfficientNet Model (Unlearn - Original)\", fontsize=16)\n",
    "plt.show()"
   ]
  },
  {
   "cell_type": "code",
   "execution_count": null,
   "id": "understood-gospel",
   "metadata": {},
   "outputs": [],
   "source": []
  },
  {
   "cell_type": "code",
   "execution_count": null,
   "id": "unlikely-thumbnail",
   "metadata": {},
   "outputs": [],
   "source": []
  },
  {
   "cell_type": "code",
   "execution_count": null,
   "id": "particular-eugene",
   "metadata": {},
   "outputs": [],
   "source": []
  },
  {
   "cell_type": "code",
   "execution_count": null,
   "id": "necessary-moral",
   "metadata": {},
   "outputs": [],
   "source": []
  },
  {
   "cell_type": "code",
   "execution_count": 24,
   "id": "precious-commissioner",
   "metadata": {},
   "outputs": [
    {
     "name": "stdout",
     "output_type": "stream",
     "text": [
      "Predicted Base  AB01  AB02  AB03  AB04  AB05  AB06  AB07  AB081  AB082  AB083  \\\n",
      "Actual                                                                          \n",
      "AB01              74     0     0     0     0     0     0      0      0      0   \n",
      "AB02               0    59     0     0     0     0     0      0      0      0   \n",
      "AB03               0     0    19     0     0     0     0      0      0      0   \n",
      "AB04               0     0     0    38     0     0     0      0      0      0   \n",
      "AB05               0     0     0     0    29     0     0      0      0      0   \n",
      "AB06               0     0     0     0     0    21     0      0      0      0   \n",
      "AB07               0     0     0     0     0     0    21      0      0      0   \n",
      "AB081              0     0     0     0     0     0     0     32      0      0   \n",
      "AB082              0     0     0     0     0     0     0      0     28      0   \n",
      "AB083              0     0     0     0     0     0     0      0      0     11   \n",
      "AB09               0     0     0     0     0     0     0      0      0      0   \n",
      "AB10               0     0     0     0     0     0     0      0      0      0   \n",
      "AB11               0     0     0     0     0     0     0      0      0      0   \n",
      "AB12               0     0     0     0     0     0     0      0      0      0   \n",
      "Normal             0     0     0     0     0     0     0      0      0      0   \n",
      "\n",
      "Predicted Base  AB09  AB10  AB11  AB12  Normal  \n",
      "Actual                                          \n",
      "AB01               0     0     0     0       0  \n",
      "AB02               0     0     0     0       0  \n",
      "AB03               0     0     0     0       0  \n",
      "AB04               0     0     0     0       0  \n",
      "AB05               0     0     0     0       0  \n",
      "AB06               0     0     0     0       0  \n",
      "AB07               0     0     0     0       0  \n",
      "AB081              0     0     0     0       0  \n",
      "AB082              0     0     0     0       0  \n",
      "AB083              0     0     0     0       0  \n",
      "AB09              26     0     0     0       0  \n",
      "AB10               0    10     0     0       0  \n",
      "AB11               0     0    55     0       0  \n",
      "AB12               0     0     0    32       0  \n",
      "Normal             0     0     0     0     857  \n",
      "Predicted Unlearn  AB01  AB02  AB03  AB04  AB05  AB06  AB07  AB081  AB082  \\\n",
      "Actual                                                                      \n",
      "AB01                 49    10     0     0     0     0     0      0      0   \n",
      "AB02                 10    33     9     0     0     0     0      0      0   \n",
      "AB03                  0     6    13     0     0     0     0      0      0   \n",
      "AB04                  0     0     0    23     0     0     1      1      0   \n",
      "AB05                  0     0     0     0    21     1     0      0      0   \n",
      "AB06                  0     0     0     0     0    11     3      0      0   \n",
      "AB07                  0     0     0     0     0     0    11      0      0   \n",
      "AB081                 2     1     0     0     0     0     0     20      0   \n",
      "AB082                 0     0     0     0     1     1     0      1     16   \n",
      "AB083                 0     0     0     0     0     0     0      0      1   \n",
      "AB09                  0     0     0     0     0     0     0      0      0   \n",
      "AB10                  0     0     0     0     0     0     0      0      0   \n",
      "AB11                  0     0     0     0     0     0     0      0      0   \n",
      "AB12                  0     0     0     1     0     0     0      0      0   \n",
      "Normal                3     0     0     1     2     0     0      0      0   \n",
      "\n",
      "Predicted Unlearn  AB083  AB09  AB10  AB11  AB12  Normal  \n",
      "Actual                                                    \n",
      "AB01                   0     0     0     0     0      15  \n",
      "AB02                   0     0     1     0     0       6  \n",
      "AB03                   0     0     0     0     0       0  \n",
      "AB04                   0     0     0     0     1      12  \n",
      "AB05                   0     0     0     0     0       7  \n",
      "AB06                   0     0     0     0     0       7  \n",
      "AB07                   0     0     0     0     0      10  \n",
      "AB081                  1     0     0     1     0       7  \n",
      "AB082                  3     2     0     1     0       3  \n",
      "AB083                  9     0     0     0     0       1  \n",
      "AB09                   0    21     2     1     0       2  \n",
      "AB10                   0     0     8     0     0       2  \n",
      "AB11                   0     0     0    50     0       5  \n",
      "AB12                   0     0     0     0    27       4  \n",
      "Normal                 0     0     0     0     0     851  \n"
     ]
    }
   ],
   "source": [
    "print(pd.crosstab(pd.Series(act, name=\"Actual\"), pd.Series(pred_paper, name=\"Predicted Base\")))\n",
    "print(pd.crosstab(pd.Series(act, name=\"Actual\"), pd.Series(pred_unlearn, name=\"Predicted Unlearn\")))"
   ]
  },
  {
   "cell_type": "code",
   "execution_count": null,
   "id": "human-public",
   "metadata": {},
   "outputs": [],
   "source": []
  },
  {
   "cell_type": "code",
   "execution_count": 23,
   "id": "crazy-henry",
   "metadata": {},
   "outputs": [
    {
     "data": {
      "text/plain": [
       "3"
      ]
     },
     "execution_count": 23,
     "metadata": {},
     "output_type": "execute_result"
    }
   ],
   "source": [
    "852-849"
   ]
  },
  {
   "cell_type": "code",
   "execution_count": null,
   "id": "elder-geneva",
   "metadata": {},
   "outputs": [],
   "source": []
  },
  {
   "cell_type": "code",
   "execution_count": null,
   "id": "adverse-lloyd",
   "metadata": {},
   "outputs": [],
   "source": []
  },
  {
   "cell_type": "code",
   "execution_count": 17,
   "id": "inside-preliminary",
   "metadata": {},
   "outputs": [
    {
     "data": {
      "text/plain": [
       "array([[ 74,   0,   0,   0,   0,   0,   0,   0,   0,   0,   0,   0,   0,\n",
       "          0,   0],\n",
       "       [  0,  59,   0,   0,   0,   0,   0,   0,   0,   0,   0,   0,   0,\n",
       "          0,   0],\n",
       "       [  0,   0,  19,   0,   0,   0,   0,   0,   0,   0,   0,   0,   0,\n",
       "          0,   0],\n",
       "       [  0,   0,   0,  38,   0,   0,   0,   0,   0,   0,   0,   0,   0,\n",
       "          0,   0],\n",
       "       [  0,   0,   0,   0,  29,   0,   0,   0,   0,   0,   0,   0,   0,\n",
       "          0,   0],\n",
       "       [  0,   0,   0,   0,   0,  21,   0,   0,   0,   0,   0,   0,   0,\n",
       "          0,   0],\n",
       "       [  0,   0,   0,   0,   0,   0,  21,   0,   0,   0,   0,   0,   0,\n",
       "          0,   0],\n",
       "       [  0,   0,   0,   0,   0,   0,   0,  32,   0,   0,   0,   0,   0,\n",
       "          0,   0],\n",
       "       [  0,   0,   0,   0,   0,   0,   0,   0,  28,   0,   0,   0,   0,\n",
       "          0,   0],\n",
       "       [  0,   0,   0,   0,   0,   0,   0,   0,   0,  11,   0,   0,   0,\n",
       "          0,   0],\n",
       "       [  0,   0,   0,   0,   0,   0,   0,   0,   0,   0,  26,   0,   0,\n",
       "          0,   0],\n",
       "       [  0,   0,   0,   0,   0,   0,   0,   0,   0,   0,   0,  10,   0,\n",
       "          0,   0],\n",
       "       [  0,   0,   0,   0,   0,   0,   0,   0,   0,   0,   0,   0,  55,\n",
       "          0,   0],\n",
       "       [  0,   0,   0,   0,   0,   0,   0,   0,   0,   0,   0,   0,   0,\n",
       "         32,   0],\n",
       "       [  0,   0,   0,   0,   0,   0,   0,   0,   0,   0,   0,   0,   0,\n",
       "          0, 857]])"
      ]
     },
     "execution_count": 17,
     "metadata": {},
     "output_type": "execute_result"
    }
   ],
   "source": [
    "cm_base"
   ]
  },
  {
   "cell_type": "code",
   "execution_count": 18,
   "id": "fatal-fraud",
   "metadata": {},
   "outputs": [
    {
     "data": {
      "text/plain": [
       "array([[ 49,  10,   0,   0,   0,   0,   0,   0,   0,   0,   0,   0,   0,\n",
       "          0,  15],\n",
       "       [ 10,  33,   9,   0,   0,   0,   0,   0,   0,   0,   0,   1,   0,\n",
       "          0,   6],\n",
       "       [  0,   6,  13,   0,   0,   0,   0,   0,   0,   0,   0,   0,   0,\n",
       "          0,   0],\n",
       "       [  0,   0,   0,  23,   0,   0,   1,   1,   0,   0,   0,   0,   0,\n",
       "          1,  12],\n",
       "       [  0,   0,   0,   0,  21,   1,   0,   0,   0,   0,   0,   0,   0,\n",
       "          0,   7],\n",
       "       [  0,   0,   0,   0,   0,  11,   3,   0,   0,   0,   0,   0,   0,\n",
       "          0,   7],\n",
       "       [  0,   0,   0,   0,   0,   0,  11,   0,   0,   0,   0,   0,   0,\n",
       "          0,  10],\n",
       "       [  2,   1,   0,   0,   0,   0,   0,  20,   0,   1,   0,   0,   1,\n",
       "          0,   7],\n",
       "       [  0,   0,   0,   0,   1,   1,   0,   1,  16,   3,   2,   0,   1,\n",
       "          0,   3],\n",
       "       [  0,   0,   0,   0,   0,   0,   0,   0,   1,   9,   0,   0,   0,\n",
       "          0,   1],\n",
       "       [  0,   0,   0,   0,   0,   0,   0,   0,   0,   0,  21,   2,   1,\n",
       "          0,   2],\n",
       "       [  0,   0,   0,   0,   0,   0,   0,   0,   0,   0,   0,   8,   0,\n",
       "          0,   2],\n",
       "       [  0,   0,   0,   0,   0,   0,   0,   0,   0,   0,   0,   0,  50,\n",
       "          0,   5],\n",
       "       [  0,   0,   0,   1,   0,   0,   0,   0,   0,   0,   0,   0,   0,\n",
       "         27,   4],\n",
       "       [  3,   0,   0,   1,   2,   0,   0,   0,   0,   0,   0,   0,   0,\n",
       "          0, 851]])"
      ]
     },
     "execution_count": 18,
     "metadata": {},
     "output_type": "execute_result"
    }
   ],
   "source": [
    "cm_unlearn"
   ]
  },
  {
   "cell_type": "code",
   "execution_count": 21,
   "id": "prerequisite-nancy",
   "metadata": {},
   "outputs": [
    {
     "data": {
      "text/plain": [
       "array([[-25,  10,   0,   0,   0,   0,   0,   0,   0,   0,   0,   0,   0,\n",
       "          0,  15],\n",
       "       [ 10, -26,   9,   0,   0,   0,   0,   0,   0,   0,   0,   1,   0,\n",
       "          0,   6],\n",
       "       [  0,   6,  -6,   0,   0,   0,   0,   0,   0,   0,   0,   0,   0,\n",
       "          0,   0],\n",
       "       [  0,   0,   0, -15,   0,   0,   1,   1,   0,   0,   0,   0,   0,\n",
       "          1,  12],\n",
       "       [  0,   0,   0,   0,  -8,   1,   0,   0,   0,   0,   0,   0,   0,\n",
       "          0,   7],\n",
       "       [  0,   0,   0,   0,   0, -10,   3,   0,   0,   0,   0,   0,   0,\n",
       "          0,   7],\n",
       "       [  0,   0,   0,   0,   0,   0, -10,   0,   0,   0,   0,   0,   0,\n",
       "          0,  10],\n",
       "       [  2,   1,   0,   0,   0,   0,   0, -12,   0,   1,   0,   0,   1,\n",
       "          0,   7],\n",
       "       [  0,   0,   0,   0,   1,   1,   0,   1, -12,   3,   2,   0,   1,\n",
       "          0,   3],\n",
       "       [  0,   0,   0,   0,   0,   0,   0,   0,   1,  -2,   0,   0,   0,\n",
       "          0,   1],\n",
       "       [  0,   0,   0,   0,   0,   0,   0,   0,   0,   0,  -5,   2,   1,\n",
       "          0,   2],\n",
       "       [  0,   0,   0,   0,   0,   0,   0,   0,   0,   0,   0,  -2,   0,\n",
       "          0,   2],\n",
       "       [  0,   0,   0,   0,   0,   0,   0,   0,   0,   0,   0,   0,  -5,\n",
       "          0,   5],\n",
       "       [  0,   0,   0,   1,   0,   0,   0,   0,   0,   0,   0,   0,   0,\n",
       "         -5,   4],\n",
       "       [  3,   0,   0,   1,   2,   0,   0,   0,   0,   0,   0,   0,   0,\n",
       "          0,  -6]])"
      ]
     },
     "execution_count": 21,
     "metadata": {},
     "output_type": "execute_result"
    }
   ],
   "source": [
    "cm_diff"
   ]
  },
  {
   "cell_type": "code",
   "execution_count": null,
   "id": "optional-encyclopedia",
   "metadata": {},
   "outputs": [],
   "source": []
  },
  {
   "cell_type": "code",
   "execution_count": 9,
   "id": "smaller-crime",
   "metadata": {},
   "outputs": [
    {
     "data": {
      "text/plain": [
       "<PandasArray>\n",
       "[  'AB01',   'AB01',   'AB01',   'AB01',   'AB01',   'AB02',   'AB02',\n",
       "   'AB02',   'AB02',   'AB04',\n",
       " ...\n",
       " 'Normal', 'Normal', 'Normal', 'Normal', 'Normal', 'Normal', 'Normal',\n",
       " 'Normal', 'Normal', 'Normal']\n",
       "Length: 1312, dtype: object"
      ]
     },
     "execution_count": 9,
     "metadata": {},
     "output_type": "execute_result"
    }
   ],
   "source": [
    "pred_paper"
   ]
  },
  {
   "cell_type": "code",
   "execution_count": 10,
   "id": "serious-adapter",
   "metadata": {},
   "outputs": [
    {
     "data": {
      "text/plain": [
       "<PandasArray>\n",
       "['Normal',   'AB01',   'AB01',   'AB01',   'AB02', 'Normal',   'AB02',\n",
       "   'AB02',   'AB03',   'AB04',\n",
       " ...\n",
       " 'Normal', 'Normal', 'Normal', 'Normal', 'Normal', 'Normal', 'Normal',\n",
       " 'Normal', 'Normal', 'Normal']\n",
       "Length: 1312, dtype: object"
      ]
     },
     "execution_count": 10,
     "metadata": {},
     "output_type": "execute_result"
    }
   ],
   "source": [
    "pred_unlearn"
   ]
  },
  {
   "cell_type": "code",
   "execution_count": null,
   "id": "official-aggregate",
   "metadata": {},
   "outputs": [],
   "source": []
  },
  {
   "cell_type": "code",
   "execution_count": null,
   "id": "banned-passport",
   "metadata": {},
   "outputs": [],
   "source": []
  },
  {
   "cell_type": "code",
   "execution_count": null,
   "id": "identical-aircraft",
   "metadata": {},
   "outputs": [],
   "source": []
  },
  {
   "cell_type": "code",
   "execution_count": null,
   "id": "strange-maine",
   "metadata": {},
   "outputs": [],
   "source": []
  },
  {
   "cell_type": "code",
   "execution_count": null,
   "id": "portable-introduction",
   "metadata": {},
   "outputs": [],
   "source": []
  },
  {
   "cell_type": "code",
   "execution_count": null,
   "id": "united-beginning",
   "metadata": {},
   "outputs": [],
   "source": []
  }
 ],
 "metadata": {
  "kernelspec": {
   "display_name": "AI",
   "language": "python",
   "name": "ai"
  },
  "language_info": {
   "codemirror_mode": {
    "name": "ipython",
    "version": 3
   },
   "file_extension": ".py",
   "mimetype": "text/x-python",
   "name": "python",
   "nbconvert_exporter": "python",
   "pygments_lexer": "ipython3",
   "version": "3.6.9"
  }
 },
 "nbformat": 4,
 "nbformat_minor": 5
}
