{
 "cells": [
  {
   "cell_type": "code",
   "execution_count": 1,
   "metadata": {},
   "outputs": [],
   "source": [
    "Testdf = ['/home/yupaporn/codes/Machine-Unlearning-USAI-CCA-2024/FV/FeaturesVector_Testdf_effnet.csv']\n",
    "i = 0"
   ]
  },
  {
   "cell_type": "code",
   "execution_count": 2,
   "metadata": {},
   "outputs": [
    {
     "name": "stdout",
     "output_type": "stream",
     "text": [
      "(1312, 2063)\n"
     ]
    },
    {
     "data": {
      "text/html": [
       "<div>\n",
       "<style scoped>\n",
       "    .dataframe tbody tr th:only-of-type {\n",
       "        vertical-align: middle;\n",
       "    }\n",
       "\n",
       "    .dataframe tbody tr th {\n",
       "        vertical-align: top;\n",
       "    }\n",
       "\n",
       "    .dataframe thead th {\n",
       "        text-align: right;\n",
       "    }\n",
       "</style>\n",
       "<table border=\"1\" class=\"dataframe\">\n",
       "  <thead>\n",
       "    <tr style=\"text-align: right;\">\n",
       "      <th></th>\n",
       "      <th>0</th>\n",
       "      <th>1</th>\n",
       "      <th>2</th>\n",
       "      <th>3</th>\n",
       "      <th>4</th>\n",
       "      <th>5</th>\n",
       "      <th>6</th>\n",
       "      <th>7</th>\n",
       "      <th>8</th>\n",
       "      <th>9</th>\n",
       "      <th>...</th>\n",
       "      <th>fold</th>\n",
       "      <th>15AB</th>\n",
       "      <th>Path Crop</th>\n",
       "      <th>Views</th>\n",
       "      <th>Spilt</th>\n",
       "      <th>Sub_Position_New</th>\n",
       "      <th>Sub_Position_Label</th>\n",
       "      <th>tag_AjNit</th>\n",
       "      <th>tag_AjWan</th>\n",
       "      <th>Sub_class_New</th>\n",
       "    </tr>\n",
       "  </thead>\n",
       "  <tbody>\n",
       "    <tr>\n",
       "      <th>0</th>\n",
       "      <td>-0.107832</td>\n",
       "      <td>0.312149</td>\n",
       "      <td>0.017342</td>\n",
       "      <td>-0.183515</td>\n",
       "      <td>0.575328</td>\n",
       "      <td>-0.173988</td>\n",
       "      <td>-0.089337</td>\n",
       "      <td>-0.063323</td>\n",
       "      <td>-0.030137</td>\n",
       "      <td>0.059897</td>\n",
       "      <td>...</td>\n",
       "      <td>2</td>\n",
       "      <td>MildFattyLiver</td>\n",
       "      <td>/media/tohn/HDD/VISION_dataset/USAI/ABnormal01...</td>\n",
       "      <td>FP-A</td>\n",
       "      <td>Test</td>\n",
       "      <td>P1</td>\n",
       "      <td>P1</td>\n",
       "      <td>NaN</td>\n",
       "      <td>NaN</td>\n",
       "      <td>AB01</td>\n",
       "    </tr>\n",
       "    <tr>\n",
       "      <th>1</th>\n",
       "      <td>0.410584</td>\n",
       "      <td>0.660917</td>\n",
       "      <td>-0.136561</td>\n",
       "      <td>-0.185142</td>\n",
       "      <td>0.411921</td>\n",
       "      <td>-0.167172</td>\n",
       "      <td>0.004929</td>\n",
       "      <td>0.000339</td>\n",
       "      <td>-0.130162</td>\n",
       "      <td>-0.110030</td>\n",
       "      <td>...</td>\n",
       "      <td>2</td>\n",
       "      <td>MildFattyLiver</td>\n",
       "      <td>/media/tohn/HDD/VISION_dataset/USAI/ABnormal01...</td>\n",
       "      <td>FP-A</td>\n",
       "      <td>Test</td>\n",
       "      <td>P2</td>\n",
       "      <td>P2</td>\n",
       "      <td>NaN</td>\n",
       "      <td>NaN</td>\n",
       "      <td>AB01</td>\n",
       "    </tr>\n",
       "    <tr>\n",
       "      <th>2</th>\n",
       "      <td>-0.017507</td>\n",
       "      <td>0.345107</td>\n",
       "      <td>0.225857</td>\n",
       "      <td>-0.165460</td>\n",
       "      <td>0.779620</td>\n",
       "      <td>-0.193235</td>\n",
       "      <td>-0.032826</td>\n",
       "      <td>-0.147712</td>\n",
       "      <td>-0.096545</td>\n",
       "      <td>0.065196</td>\n",
       "      <td>...</td>\n",
       "      <td>2</td>\n",
       "      <td>MildFattyLiver</td>\n",
       "      <td>/media/tohn/HDD/VISION_dataset/USAI/ABnormal01...</td>\n",
       "      <td>FP-B</td>\n",
       "      <td>Test</td>\n",
       "      <td>P4</td>\n",
       "      <td>P4</td>\n",
       "      <td>NaN</td>\n",
       "      <td>NaN</td>\n",
       "      <td>AB01</td>\n",
       "    </tr>\n",
       "    <tr>\n",
       "      <th>3</th>\n",
       "      <td>-0.020903</td>\n",
       "      <td>0.117676</td>\n",
       "      <td>-0.082830</td>\n",
       "      <td>-0.135977</td>\n",
       "      <td>0.282655</td>\n",
       "      <td>-0.220009</td>\n",
       "      <td>0.111935</td>\n",
       "      <td>-0.094879</td>\n",
       "      <td>-0.103361</td>\n",
       "      <td>0.036063</td>\n",
       "      <td>...</td>\n",
       "      <td>2</td>\n",
       "      <td>MildFattyLiver</td>\n",
       "      <td>/media/tohn/HDD/VISION_dataset/USAI/ABnormal01...</td>\n",
       "      <td>FP-C</td>\n",
       "      <td>Test</td>\n",
       "      <td>P6</td>\n",
       "      <td>P6</td>\n",
       "      <td>NaN</td>\n",
       "      <td>NaN</td>\n",
       "      <td>AB01</td>\n",
       "    </tr>\n",
       "    <tr>\n",
       "      <th>4</th>\n",
       "      <td>0.064264</td>\n",
       "      <td>0.339072</td>\n",
       "      <td>0.294475</td>\n",
       "      <td>-0.157963</td>\n",
       "      <td>0.194470</td>\n",
       "      <td>-0.202357</td>\n",
       "      <td>-0.088955</td>\n",
       "      <td>-0.190239</td>\n",
       "      <td>-0.139357</td>\n",
       "      <td>-0.224388</td>\n",
       "      <td>...</td>\n",
       "      <td>2</td>\n",
       "      <td>MildFattyLiver</td>\n",
       "      <td>/media/tohn/HDD/VISION_dataset/USAI/ABnormal01...</td>\n",
       "      <td>FP-B</td>\n",
       "      <td>Test</td>\n",
       "      <td>P3</td>\n",
       "      <td>P3</td>\n",
       "      <td>NaN</td>\n",
       "      <td>NaN</td>\n",
       "      <td>AB01</td>\n",
       "    </tr>\n",
       "  </tbody>\n",
       "</table>\n",
       "<p>5 rows × 2063 columns</p>\n",
       "</div>"
      ],
      "text/plain": [
       "          0         1         2         3         4         5         6  \\\n",
       "0 -0.107832  0.312149  0.017342 -0.183515  0.575328 -0.173988 -0.089337   \n",
       "1  0.410584  0.660917 -0.136561 -0.185142  0.411921 -0.167172  0.004929   \n",
       "2 -0.017507  0.345107  0.225857 -0.165460  0.779620 -0.193235 -0.032826   \n",
       "3 -0.020903  0.117676 -0.082830 -0.135977  0.282655 -0.220009  0.111935   \n",
       "4  0.064264  0.339072  0.294475 -0.157963  0.194470 -0.202357 -0.088955   \n",
       "\n",
       "          7         8         9  ...  fold            15AB  \\\n",
       "0 -0.063323 -0.030137  0.059897  ...     2  MildFattyLiver   \n",
       "1  0.000339 -0.130162 -0.110030  ...     2  MildFattyLiver   \n",
       "2 -0.147712 -0.096545  0.065196  ...     2  MildFattyLiver   \n",
       "3 -0.094879 -0.103361  0.036063  ...     2  MildFattyLiver   \n",
       "4 -0.190239 -0.139357 -0.224388  ...     2  MildFattyLiver   \n",
       "\n",
       "                                           Path Crop  Views  Spilt  \\\n",
       "0  /media/tohn/HDD/VISION_dataset/USAI/ABnormal01...   FP-A   Test   \n",
       "1  /media/tohn/HDD/VISION_dataset/USAI/ABnormal01...   FP-A   Test   \n",
       "2  /media/tohn/HDD/VISION_dataset/USAI/ABnormal01...   FP-B   Test   \n",
       "3  /media/tohn/HDD/VISION_dataset/USAI/ABnormal01...   FP-C   Test   \n",
       "4  /media/tohn/HDD/VISION_dataset/USAI/ABnormal01...   FP-B   Test   \n",
       "\n",
       "   Sub_Position_New  Sub_Position_Label  tag_AjNit  tag_AjWan  Sub_class_New  \n",
       "0                P1                  P1        NaN        NaN           AB01  \n",
       "1                P2                  P2        NaN        NaN           AB01  \n",
       "2                P4                  P4        NaN        NaN           AB01  \n",
       "3                P6                  P6        NaN        NaN           AB01  \n",
       "4                P3                  P3        NaN        NaN           AB01  \n",
       "\n",
       "[5 rows x 2063 columns]"
      ]
     },
     "execution_count": 2,
     "metadata": {},
     "output_type": "execute_result"
    }
   ],
   "source": [
    "import os\n",
    "os.environ[\"CUDA_VISIBLE_DEVICES\"]=\"\"\n",
    "\n",
    "import os\n",
    "import numpy as np\n",
    "import pandas as pd\n",
    "import warnings\n",
    "warnings.filterwarnings(\"ignore\")\n",
    "\n",
    "#load model\n",
    "import pickle\n",
    "os.chdir('/media/tohn/SSD/ModelTrainByImages/R2_1/models/')\n",
    "filename = \"modelrf_EffNet5_b5_1FC_cross_15AB_15AB.pkl\"\n",
    "with open(filename, 'rb') as file:\n",
    "    model = pickle.load(file)\n",
    "    \n",
    "dataframe = pd.read_csv(Testdf[i])\n",
    "dataframe = dataframe.drop(['Unnamed: 0'], axis=1)\n",
    "# dataframe = dataframe[dataframe['Sub_class'] != 'AB12']\n",
    "print(dataframe.shape)\n",
    "dataframe.head()"
   ]
  },
  {
   "cell_type": "code",
   "execution_count": 3,
   "metadata": {},
   "outputs": [
    {
     "name": "stdout",
     "output_type": "stream",
     "text": [
      "(1312, 2048)\n",
      "(1312,)\n",
      "{'AB01', 'AB082', 'AB06', 'AB07', 'AB10', 'AB12', 'AB05', 'AB02', 'AB09', 'AB03', 'AB081', 'Normal', 'AB083', 'AB11', 'AB04'}\n"
     ]
    }
   ],
   "source": [
    "X_test = dataframe.iloc[:,0:2048]\n",
    "y_test = dataframe.iloc[:,-1]\n",
    "print(X_test.shape)\n",
    "print(y_test.shape)\n",
    "print(set(y_test))"
   ]
  },
  {
   "cell_type": "code",
   "execution_count": 4,
   "metadata": {},
   "outputs": [],
   "source": [
    "labels =  {0: 'AB01', 1: 'AB02', 2: 'AB03', 3: 'AB04', 4: 'AB05', 5: 'AB06', 6: 'AB07', 7: 'AB081', 8: 'AB082', 9: 'AB083', 10: 'AB09', 11: 'AB10', 12: 'AB11', 13: 'AB12', 14: 'Normal'}"
   ]
  },
  {
   "cell_type": "code",
   "execution_count": 5,
   "metadata": {},
   "outputs": [],
   "source": [
    "pred_list = list()\n",
    "prob_list = list()\n",
    "y_pred = model.predict(X_test)\n",
    "y_prob = model.predict_proba(X_test)\n",
    " \n",
    "for i in range(0,len(y_prob)):\n",
    "    result = y_prob[i]\n",
    "    re_class = list()\n",
    "    re_prop = list()  \n",
    "\n",
    "    maxx = np.argmax(result)\n",
    "    re_class= labels[maxx]\n",
    "    re_prop=result[maxx]\n",
    "    result = np.where(result==result[maxx], 0, result)\n",
    "    pred_list.append(re_class)\n",
    "    prob_list.append(re_prop)\n",
    "    \n",
    "dataframe['rf_Predict'] = pred_list\n",
    "dataframe['rf_Prob'] = prob_list"
   ]
  },
  {
   "cell_type": "code",
   "execution_count": 9,
   "metadata": {},
   "outputs": [
    {
     "name": "stdout",
     "output_type": "stream",
     "text": [
      "classifier accuracy = 84.6798780487805%\n",
      "              precision    recall  f1-score   support\n",
      "\n",
      "        AB01       0.79      0.61      0.69        74\n",
      "        AB02       0.57      0.59      0.58        59\n",
      "        AB03       0.50      0.47      0.49        19\n",
      "        AB04       0.81      0.68      0.74        38\n",
      "        AB05       0.83      0.66      0.73        29\n",
      "        AB06       0.83      0.48      0.61        21\n",
      "        AB07       0.71      0.48      0.57        21\n",
      "       AB081       0.78      0.56      0.65        32\n",
      "       AB082       0.79      0.54      0.64        28\n",
      "       AB083       0.80      0.36      0.50        11\n",
      "        AB09       1.00      0.77      0.87        26\n",
      "        AB10       0.80      0.40      0.53        10\n",
      "        AB11       0.91      0.36      0.52        55\n",
      "        AB12       0.42      0.75      0.54        32\n",
      "      Normal       0.90      0.99      0.95       857\n",
      "\n",
      "    accuracy                           0.85      1312\n",
      "   macro avg       0.76      0.58      0.64      1312\n",
      "weighted avg       0.85      0.85      0.84      1312\n",
      "\n"
     ]
    }
   ],
   "source": [
    "import numpy as np\n",
    "from sklearn.metrics import confusion_matrix\n",
    "act = dataframe['Sub_class_New'].array\n",
    "pred = dataframe['rf_Predict'].array\n",
    "\n",
    "cmat = confusion_matrix(act, pred)\n",
    "print('classifier accuracy = {}%'.format((100.*np.trace(cmat))/(np.sum(cmat))))\n",
    "\n",
    "#Marking the Confusion Matrix\n",
    "from sklearn.metrics import classification_report,confusion_matrix\n",
    "print(classification_report(act, pred))#performance"
   ]
  },
  {
   "cell_type": "code",
   "execution_count": 10,
   "metadata": {},
   "outputs": [
    {
     "data": {
      "text/plain": [
       "Text(0.5, 21.5, 'Predicted label')"
      ]
     },
     "execution_count": 10,
     "metadata": {},
     "output_type": "execute_result"
    },
    {
     "data": {
      "image/png": "[encoded data removed]",
      "text/plain": [
       "<Figure size 576x360 with 2 Axes>"
      ]
     },
     "metadata": {},
     "output_type": "display_data"
    }
   ],
   "source": [
    "#create CF \n",
    "data = {'Actual': act,'Predicted' : pred,}\n",
    "df = pd.DataFrame(data, columns=['Actual','Predicted'])\n",
    "conf_mat = pd.crosstab(df['Actual'],df['Predicted'],rownames=['Actual'],colnames=['Predicted'])\n",
    "\n",
    "#Confusion matrix\n",
    "from sklearn.metrics import confusion_matrix\n",
    "import matplotlib.pyplot as plt\n",
    "cm = confusion_matrix(act, pred)\n",
    "\n",
    "#plot Confusion matrix\n",
    "import seaborn as sns\n",
    "sns.set()\n",
    "fig, ax = plt.subplots(figsize=(8, 5))\n",
    "\n",
    "ax = sns.heatmap(conf_mat, annot=True, fmt=\"d\", cmap=\"YlGnBu\") #Blues,Oranges,Reds\n",
    "ax.set_title('Confusion matrix',fontsize=20)\n",
    "ax.set_ylabel('True label',fontsize=18)\n",
    "ax.set_xlabel('Predicted label',fontsize=18)"
   ]
  },
  {
   "cell_type": "code",
   "execution_count": 11,
   "metadata": {},
   "outputs": [
    {
     "name": "stdout",
     "output_type": "stream",
     "text": [
      "\n",
      "    classifier accuracy = 92.60670731707317%\n",
      "\n",
      "               precision    recall  f1-score   support\n",
      "\n",
      "    Abnormal       0.99      0.80      0.88       455\n",
      "      Normal       0.90      0.99      0.95       857\n",
      "\n",
      "    accuracy                           0.93      1312\n",
      "   macro avg       0.94      0.90      0.91      1312\n",
      "weighted avg       0.93      0.93      0.92      1312\n",
      "\n"
     ]
    }
   ],
   "source": [
    "# Evaluation Binary-class\n",
    "act= dataframe['Sub_class_New'].map({'AB01':'Abnormal', 'AB02':'Abnormal', 'AB03':'Abnormal', 'AB04':'Abnormal',\n",
    " 'AB05':'Abnormal','AB06':'Abnormal', 'AB07':'Abnormal', 'AB081':'Abnormal',\n",
    " 'AB082':'Abnormal', 'AB083':'Abnormal', 'AB09':'Abnormal', 'AB10':'Abnormal',\n",
    " 'AB11':'Abnormal', 'AB12':'Abnormal', 'Normal':'Normal'}).values\n",
    "pred = dataframe['rf_Predict'].map({'AB01':'Abnormal', 'AB02':'Abnormal', 'AB03':'Abnormal', 'AB04':'Abnormal',\n",
    " 'AB05':'Abnormal','AB06':'Abnormal', 'AB07':'Abnormal', 'AB081':'Abnormal',\n",
    " 'AB082':'Abnormal', 'AB083':'Abnormal', 'AB09':'Abnormal', 'AB10':'Abnormal',\n",
    " 'AB11':'Abnormal', 'AB12':'Abnormal', 'Normal':'Normal'}).values\n",
    "cmat = confusion_matrix(act, pred)\n",
    "# TN, FP, FN, TP = confusion_matrix(act, pred).ravel()\n",
    "# print('\\n    ',TN, FP, FN, TP)\n",
    "print('\\n    classifier accuracy = {}%'.format((100.*np.trace(cmat))/(np.sum(cmat))))\n",
    "\n",
    "#Marking the Confusion Matrix\n",
    "from sklearn.metrics import classification_report,confusion_matrix\n",
    "print('\\n', classification_report(act, pred))#performance"
   ]
  },
  {
   "cell_type": "code",
   "execution_count": 12,
   "metadata": {},
   "outputs": [
    {
     "data": {
      "text/plain": [
       "Text(0.5, 21.5, 'Predicted label')"
      ]
     },
     "execution_count": 12,
     "metadata": {},
     "output_type": "execute_result"
    },
    {
     "data": {
      "image/png": "[encoded data removed]",
      "text/plain": [
       "<Figure size 576x360 with 2 Axes>"
      ]
     },
     "metadata": {},
     "output_type": "display_data"
    }
   ],
   "source": [
    "#create CF \n",
    "data = {'Actual': act,'Predicted' : pred,}\n",
    "df = pd.DataFrame(data, columns=['Actual','Predicted'])\n",
    "conf_mat = pd.crosstab(df['Actual'],df['Predicted'],rownames=['Actual'],colnames=['Predicted'])\n",
    "\n",
    "#Confusion matrix\n",
    "from sklearn.metrics import confusion_matrix\n",
    "import matplotlib.pyplot as plt\n",
    "cm = confusion_matrix(act, pred)\n",
    "\n",
    "#plot Confusion matrix\n",
    "import seaborn as sns\n",
    "sns.set()\n",
    "fig, ax = plt.subplots(figsize=(8, 5))\n",
    "\n",
    "ax = sns.heatmap(conf_mat, annot=True, fmt=\"d\", cmap=\"YlGnBu\") #Blues,Oranges,Reds\n",
    "ax.set_title('Confusion matrix',fontsize=20)\n",
    "ax.set_ylabel('True label',fontsize=18)\n",
    "ax.set_xlabel('Predicted label',fontsize=18)"
   ]
  },
  {
   "cell_type": "code",
   "execution_count": null,
   "metadata": {},
   "outputs": [],
   "source": []
  },
  {
   "cell_type": "code",
   "execution_count": null,
   "metadata": {},
   "outputs": [],
   "source": []
  },
  {
   "cell_type": "code",
   "execution_count": null,
   "metadata": {},
   "outputs": [],
   "source": []
  },
  {
   "cell_type": "code",
   "execution_count": null,
   "metadata": {},
   "outputs": [],
   "source": []
  },
  {
   "cell_type": "code",
   "execution_count": null,
   "metadata": {},
   "outputs": [],
   "source": []
  }
 ],
 "metadata": {
  "kernelspec": {
   "display_name": "USAI3",
   "language": "python",
   "name": "usai3"
  },
  "language_info": {
   "codemirror_mode": {
    "name": "ipython",
    "version": 3
   },
   "file_extension": ".py",
   "mimetype": "text/x-python",
   "name": "python",
   "nbconvert_exporter": "python",
   "pygments_lexer": "ipython3",
   "version": "3.6.9"
  }
 },
 "nbformat": 4,
 "nbformat_minor": 4
}
